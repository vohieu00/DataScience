{
 "cells": [
  {
   "cell_type": "code",
   "execution_count": 1,
   "metadata": {},
   "outputs": [],
   "source": [
    "%matplotlib inline\n",
    "import matplotlib.pyplot as plt\n",
    "import pandas as pd\n",
    "import numpy as np\n",
    "from sklearn.model_selection import train_test_split\n",
    "from sklearn.preprocessing import OneHotEncoder, StandardScaler\n",
    "from sklearn.impute import SimpleImputer\n",
    "from sklearn.base import BaseEstimator, TransformerMixin\n",
    "from sklearn.pipeline import Pipeline, make_pipeline\n",
    "from sklearn.compose import ColumnTransformer, make_column_transformer\n",
    "from sklearn.neural_network import MLPClassifier, MLPRegressor\n",
    "from sklearn import set_config\n",
    "from sklearn.ensemble import RandomForestRegressor\n",
    "from sklearn.feature_selection import SelectKBest\n",
    "from sklearn.feature_selection import chi2\n",
    "set_config(display='diagram') # Để trực quan hóa pipeline"
   ]
  },
  {
   "cell_type": "code",
   "execution_count": 2,
   "metadata": {},
   "outputs": [
    {
     "data": {
      "text/plain": [
       "3     131\n",
       "4     114\n",
       "2      97\n",
       "5      75\n",
       "6      73\n",
       "7      46\n",
       "8      28\n",
       "10     24\n",
       "1      24\n",
       "15     21\n",
       "9      18\n",
       "11     10\n",
       "12      9\n",
       "0       7\n",
       "13      5\n",
       "Name: Cost, dtype: int64"
      ]
     },
     "execution_count": 2,
     "metadata": {},
     "output_type": "execute_result"
    }
   ],
   "source": [
    "# xử lí cột Cost thành dạng numeric\n",
    "data_df = pd.read_csv(\"./Data/Laptops.csv\")\n",
    "data_df.head()\n",
    "data_df.Cost = data_df.Cost.str.replace(\".\", \"\")\n",
    "data_df.Cost=data_df.Cost.str[:-1]\n",
    "data_df.Cost =pd.to_numeric(data_df.Cost)\n",
    "data_df.Cost.value_counts()\n",
    "# dán nhãn cho cột Cost\n",
    "def set_label_col(df, col):\n",
    "    step=3\n",
    "    labels = range(0, 14, 1)\n",
    "    start = 4\n",
    "    end = start\n",
    "    \n",
    "    for each in labels:\n",
    "        end = start+step\n",
    "        df.loc[(start*(10**6) < df[col])  & (df[col] <= end*(10**6)), \"Cost\"] = each\n",
    "        start = end\n",
    "        \n",
    "    \n",
    "    df.loc[df[col] > end*(10**6), col] = 15\n",
    "set_label_col(data_df, \"Cost\")\n",
    "data_df.Cost.value_counts()"
   ]
  },
  {
   "cell_type": "code",
   "execution_count": 3,
   "metadata": {},
   "outputs": [
    {
     "data": {
      "text/plain": [
       "(682, 30)"
      ]
     },
     "execution_count": 3,
     "metadata": {},
     "output_type": "execute_result"
    }
   ],
   "source": [
    "y_sr = data_df[\"Cost\"]\n",
    "X_df = data_df.drop(\"Cost\", axis=1)\n",
    "train_X_df, val_X_df, train_y_sr, val_y_sr = train_test_split(X_df, y_sr, test_size=0.2, \n",
    "                                                              stratify=y_sr, random_state=0)\n",
    "X_df.shape"
   ]
  },
  {
   "cell_type": "code",
   "execution_count": 4,
   "metadata": {
    "scrolled": true
   },
   "outputs": [],
   "source": [
    "pd.set_option('display.max_colwidth', 200) # Để nhìn rõ hơn\n",
    "def missing_ratio(df):\n",
    "    return (df.isna().mean() * 100).round(1)\n",
    "def num_values(df):\n",
    "    return df.nunique()\n",
    "def value_ratios(c):\n",
    "    return dict((c.value_counts(normalize=True) * 100).round(1))\n",
    "info = X_df.agg([missing_ratio, num_values, value_ratios])\n",
    "drop_cols = [\"Bảo hành\"]\n",
    "for col in X_df.columns:\n",
    "    if info.loc['missing_ratio'][col] > 10:\n",
    "        drop_cols.append(col)"
   ]
  },
  {
   "cell_type": "markdown",
   "metadata": {},
   "source": [
    "# Xử lí tập training"
   ]
  },
  {
   "cell_type": "code",
   "execution_count": 5,
   "metadata": {},
   "outputs": [],
   "source": [
    "# drop_cols = ['Bảo hành', 'Bảo mật', 'Tính năng', 'Phụ kiện đi kèm', 'Ổ đĩa quang', 'Mô tả bảo hành', 'Mic', \n",
    "#             'Kích thước', 'Pin', 'Khối lượng', 'Kiểu khe M.2 hỗ trợ']\n",
    "class ColAdderDropper(BaseEstimator, TransformerMixin):\n",
    "    def __init__(self, num_top_titles=1, col_titles = 'Series laptop', drop_columns = ['Pin', 'Khối lượng']):\n",
    "        self.num_top_titles = num_top_titles\n",
    "        self.col_titles = str(col_titles)\n",
    "        self.drop_columns = drop_cols\n",
    "    def fit(self, X_df, y=None):\n",
    "        title_col = X_df[self.col_titles]\n",
    "        self.title_counts_ = title_col.value_counts()\n",
    "        titles = list(self.title_counts_.index)\n",
    "        self.top_titles_ = titles[:max(1, min(self.num_top_titles, len(titles)))]\n",
    "        return self\n",
    "    def transform(self, X_df, y=None):\n",
    "        new_df = X_df.copy()\n",
    "        new_df.drop([\"Name\"], axis=1, inplace=True)\n",
    "        new_df[\"Title\"] = new_df[self.col_titles]\n",
    "        new_df.drop([self.col_titles], axis=1, inplace=True)\n",
    "        try:\n",
    "            new_df = new_df.drop(self.drop_columns, axis =1)\n",
    "            self.drop_columns.clear()\n",
    "        except:\n",
    "            pass\n",
    "        \n",
    "        for each in self.title_counts_.keys():\n",
    "            if each not in self.top_titles_:\n",
    "                new_df.loc[new_df['Title'] == each, 'Title'] = \"Others\"     \n",
    "        return new_df\n"
   ]
  },
  {
   "cell_type": "code",
   "execution_count": 6,
   "metadata": {
    "scrolled": false
   },
   "outputs": [
    {
     "name": "stdout",
     "output_type": "stream",
     "text": [
      "['Cổng kết nối', 'Đèn LED trên máy', 'Bàn phím', 'Lưu trữ', 'Màn hình', 'Cổng xuất hình', 'Chip đồ họa', 'Hệ điều hành', 'RAM', 'Kết nối không dây', 'Màu sắc', 'Số cổng lưu trữ tối đa', 'Thương hiệu', 'Thế hệ CPU', 'CPU', 'URL', 'Khối lượng', 'Kiểu khe M.2 hỗ trợ', 'Pin', 'Kích thước', 'Part-number', 'Title']\n"
     ]
    }
   ],
   "source": [
    "col_title = \"Series laptop\"\n",
    "num_top_titles = 20\n",
    "columns = list(set(X_df.columns) - set(drop_cols+[\"Name\", col_title])) + [\"Title\"] \n",
    "print(columns)\n",
    "steps = [('imputer', SimpleImputer(missing_values=np.nan, strategy='most_frequent')),\n",
    "      ('encoder', OneHotEncoder(handle_unknown=\"ignore\"))]\n",
    "\n",
    "tsf = Pipeline(steps)\n",
    "transformer = [('tsf', tsf, columns)]\n",
    "transfer = ColumnTransformer(transformer)\n",
    "steps = [('col_adderdropper', ColAdderDropper(num_top_titles=num_top_titles, col_titles = col_title)),\n",
    "        ('transfer', transfer)]\n",
    "preprocess_pipeline = Pipeline(steps)\n",
    "preprocess_pipeline\n",
    "preprocessed_train_X = preprocess_pipeline.fit_transform(train_X_df)\n"
   ]
  },
  {
   "cell_type": "markdown",
   "metadata": {},
   "source": [
    "# Xử lí tập validation và mô hình tốt nhất neural netwok"
   ]
  },
  {
   "cell_type": "code",
   "execution_count": 7,
   "metadata": {},
   "outputs": [],
   "source": [
    "preprocessed_val_X = preprocess_pipeline.fit_transform(val_X_df)\n",
    "mlpregressor = MLPRegressor(hidden_layer_sizes=(100), solver = 'lbfgs', \n",
    "        learning_rate = 'adaptive', random_state=0, max_iter=500, early_stopping = True, verbose = 1)\n",
    "steps = [('col_adderdropper', ColAdderDropper(num_top_titles=num_top_titles, col_titles = col_title)),\n",
    "        ('transfer', transfer), ('classifer', mlpregressor)]\n",
    "full_pipeline = Pipeline(steps)\n",
    "train_errs = []\n",
    "val_errs = []\n",
    "\n",
    "num_top_titles_s = [1, 10, 20, 30, 40, 50]\n",
    "best_val_err = float('inf'); best_alpha = None; best_num_top_titles = None\n",
    "\n",
    "for num_top_titles in num_top_titles_s:\n",
    "        full_pipeline.set_params(col_adderdropper__num_top_titles=num_top_titles)\n",
    "        full_pipeline.fit(train_X_df, train_y_sr)\n",
    "        train_err = (1 - full_pipeline.score(train_X_df, train_y_sr))*100\n",
    "        val_err = (1 - full_pipeline.score(val_X_df, val_y_sr))*100\n",
    "        if val_err < best_val_err:\n",
    "            best_val_err = val_err\n",
    "            best_num_top_titles = num_top_titles\n",
    "        train_errs.append(train_err)\n",
    "        val_errs.append(val_err)"
   ]
  },
  {
   "cell_type": "code",
   "execution_count": 8,
   "metadata": {},
   "outputs": [
    {
     "name": "stdout",
     "output_type": "stream",
     "text": [
      "20\n",
      "13.227295033575025\n"
     ]
    }
   ],
   "source": [
    "full_pipeline.set_params(col_adderdropper__num_top_titles=best_num_top_titles)\n",
    "full_pipeline.fit(X_df, y_sr)\n",
    "print(best_num_top_titles)\n",
    "print(best_val_err)\n",
    "# best_num_top_titles"
   ]
  },
  {
   "cell_type": "markdown",
   "metadata": {},
   "source": [
    "# TESTING"
   ]
  },
  {
   "cell_type": "code",
   "execution_count": 9,
   "metadata": {},
   "outputs": [],
   "source": [
    "test_df = pd.read_csv(\"./Data/test.csv\")\n",
    "test_y_sr = test_df[\"Cost\"]\n",
    "test_X_df = test_df.drop(\"Cost\", axis = 1)"
   ]
  },
  {
   "cell_type": "code",
   "execution_count": 10,
   "metadata": {},
   "outputs": [
    {
     "data": {
      "text/plain": [
       "12.21773214896038"
      ]
     },
     "execution_count": 10,
     "metadata": {},
     "output_type": "execute_result"
    }
   ],
   "source": [
    "pred_y = full_pipeline.predict(test_X_df)\n",
    "test_err = (1 - full_pipeline.score(test_X_df, test_y_sr))*100\n",
    "test_err"
   ]
  }
 ],
 "metadata": {
  "kernelspec": {
   "display_name": "Python 3",
   "language": "python",
   "name": "python3"
  },
  "language_info": {
   "codemirror_mode": {
    "name": "ipython",
    "version": 3
   },
   "file_extension": ".py",
   "mimetype": "text/x-python",
   "name": "python",
   "nbconvert_exporter": "python",
   "pygments_lexer": "ipython3",
   "version": "3.8.3"
  }
 },
 "nbformat": 4,
 "nbformat_minor": 4
}
